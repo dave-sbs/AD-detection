{
 "cells": [
  {
   "cell_type": "code",
   "execution_count": null,
   "id": "b2e81c89-ec83-4fbc-8f83-08bc77f07505",
   "metadata": {},
   "outputs": [],
   "source": []
  },
  {
   "cell_type": "markdown",
   "id": "30ab15ff",
   "metadata": {},
   "source": [
    "Dataset: https://www.kaggle.com/code/proutkarshtiwari/adni-for-image-classification\n",
    "\n",
    "Plans for this week:\n",
    "- Look at metadata and see if we need to come up with any exclusion criteria\n",
    "    - Remove any empty or missing files\n",
    "- Separate the AD and CN MRI images into training, validation, and testing sets\n",
    "- Build basic CNN model "
   ]
  }
 ],
 "metadata": {
  "kernelspec": {
   "display_name": "Python 3 (ipykernel)",
   "language": "python",
   "name": "python3"
  },
  "language_info": {
   "codemirror_mode": {
    "name": "ipython",
    "version": 3
   },
   "file_extension": ".py",
   "mimetype": "text/x-python",
   "name": "python",
   "nbconvert_exporter": "python",
   "pygments_lexer": "ipython3",
   "version": "3.11.5"
  }
 },
 "nbformat": 4,
 "nbformat_minor": 5
}
